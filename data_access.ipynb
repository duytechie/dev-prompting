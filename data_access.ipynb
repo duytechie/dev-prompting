{
 "cells": [
  {
   "cell_type": "code",
   "execution_count": 1,
   "metadata": {},
   "outputs": [
    {
     "name": "stdout",
     "output_type": "stream",
     "text": [
      "Hello\n"
     ]
    }
   ],
   "source": [
    "print(\"Hello\")"
   ]
  },
  {
   "cell_type": "code",
   "execution_count": 2,
   "metadata": {},
   "outputs": [],
   "source": [
    "import pyarrow.parquet as pa"
   ]
  },
  {
   "cell_type": "code",
   "execution_count": 3,
   "metadata": {
    "scrolled": true
   },
   "outputs": [
    {
     "data": {
      "text/plain": [
       "pyarrow.Table\n",
       "messages: string\n",
       "----\n",
       "messages: [[\"[{\"role\": \"system\", \"content\": \"\"}, {\"role\": \"user\", \"content\": \"A group of six friends\\u2014Tara, Uma, Victor, Wendy, Xavier, and Yolanda\\u2014are planning to sit in a row of six chairs to watch a movie. The seating arrangement must adhere to the following conditions: Tara refuses to sit next to Victor; Uma wants to sit at one end of the row; Wendy must sit to the immediate right of Xavier; Yolanda insists on sitting directly between Tara and Uma. The friends must figure out how they can be seated to satisfy all these conditions.\\n\\nClues:\\nTara cannot sit next to Victor\\nUma must sit at either the first or the last chair in the row\\nWendy must sit immediately to the right of Xavier\\nYolanda must sit directly between Tara and Uma\\n\\nQ: Which of the following seating arrangements is possible given the constraints?\\n(A) Uma, Yolanda, Tara, Xavier, Wendy, Victor\\n(B) Tara, Yolanda, Uma, Wendy, Xavier, Victor\\n(C) Victor, Wendy, Xavier, Tara, Yolanda, Uma\\n(D) Uma, Tara, Yolanda, Xavier, Wendy, Victor\\n(E) Xavier, Wendy, Tara, Yolanda, Uma, Victor\"}, {\"role\": \"assistant\", \"content\": \"Let's go through the conditions one by one and apply them to the options provided:\\n\\n1. Tara refuses to sit next to Victor.\\n2. Uma wants to sit at one end of the row.\\n3. Wendy must sit to the immediate right of Xavier.\\n4. Yolanda insists on sitting directly between Tara and Uma.\\n\\nNow let's evaluate each option:\\n\\n(A) Uma, Yolanda, Tara, Xavier, Wendy, Victor\\n- Uma is at the end of the row, which satisfies condition 2.\\n- Yolanda is between Tara and Uma, which satisfies condition 4.\\n- Wendy is to the immediate right of Xavier, which satisfies condition 3.\\n- Tara is not next to Victor, which satisfies condition 1.\\nThis option satisfies all conditions.\\n\\n(B) Tara, Yolanda, Uma, Wendy, Xavier, Victor\\n- Uma is not at the end of the row, which violates condition 2.\\n- Wendy is not to the immediate right of Xavier, which violates condition 3.\\nThis option violates multiple conditions.\\n\\n(C) Victor, Wendy, Xavier, Tara, Yolanda, Uma\\n- Uma is at the end of the row, which satisfies condition 2.\\n- Wendy is to the immediate right of Xavier, which satisfies condition 3.\\n- Yolanda is not directly between Tara and Uma, which violates condition 4.\\nThis option violates condition 4.\\n\\n(D) Uma, Tara, Yolanda, Xavier, Wendy, Victor\\n- Uma is at the end of the row, which satisfies condition 2.\\n- Wendy is to the immediate right of Xavier, which satisfies condition 3.\\n- Yolanda is between Tara and Uma, which satisfies condition 4.\\n- Tara is not next to Victor, which satisfies condition 1.\\nThis option satisfies all conditions.\\n\\n(E) Xavier, Wendy, Tara, Yolanda, Uma, Victor\\n- Uma is at the end of the row, which satisfies condition 2.\\n- Wendy is to the immediate right of Xavier, which satisfies condition 3.\\n- Yolanda is not directly between Tara and Uma, which violates condition 4.\\n- Tara is next to Victor, which violates condition 1.\\nThis option violates multiple conditions.\\n\\nGiven the analysis, the possible seating arrangements that satisfy all conditions are (A) and (D). However, since the question asks for which one of the following is possible, we can choose either (A) or (D) as the correct answer.\"}]\",\"[{\"role\": \"system\", \"content\": \"\"}, {\"role\": \"user\", \"content\": \"A group of amateur astronomers are discussing their telescope setups and observations. There are three telescopes mentioned: TEC180, Agema SD 150, and a fluorite doublet SD 120. Each telescope owner is considering different mounts and accessories for their setup. One owner is interested in binoviewing and is trying to determine if their setup will allow them to see the F star of the Trapezium. Another owner has seen the F star with a smaller aperture telescope and challenges the common belief that a larger aperture is needed. The astronomers must decide on the most suitable mounts and accessories for their telescopes while considering factors such as cost, compatibility, and the ability to observe specific celestial objects.\\n\\nClues:\\nThe owner of the TEC180 must pair with a mount that supports binoviewing\\nThe owner of the Agema SD 150 cannot pair with the accessory that allows observation of the F star of the Trapezium\\nThe owner of the fluorite doublet SD 120 must pair with the least expensive mount option\\n\\nQ: Which of the following pairings adheres to all the specified constraints?\\n(A) TEC180 with binoviewing mount, Agema SD 150 with F star accessory\\n(B) TEC180 with least expensive mount, Agema SD 150 with binoviewing mount\\n(C) TEC180 with binoviewing mount, fluorite doublet SD 120 with least expensive mount\\n(D) Agema SD 150 with least expensive mount, TEC180 with F star accessory\\n(E) Fluorite doublet SD 120 with F star accessory, TEC180 with least expensive mount\"}, {\"role\": \"assistant\", \"content\": \"Let's analyze the clues and the options:\\n\\n1. The owner of the TEC180 must pair with a mount that supports binoviewing.\\n2. The owner of the Agema SD 150 cannot pair with the accessory that allows observation of the F star of the Trapezium.\\n3. The owner of the fluorite doublet SD 120 must pair with the least expensive mount option.\\n\\nNow, let's evaluate the options:\\n\\n(A) TEC180 with binoviewing mount, Agema SD 150 with F star accessory\\n- This violates clue 2 because the Agema SD 150 cannot be paired with the accessory that allows observation of the F star.\\n\\n(B) TEC180 with least expensive mount, Agema SD 150 with binoviewing mount\\n- This violates clue 1 because the TEC180 must be paired with a mount that supports binoviewing, not the least expensive mount.\\n\\n(C) TEC180 with binoviewing mount, fluorite doublet SD 120 with least expensive mount\\n- This adheres to clue 1 (TEC180 with binoviewing mount) and clue 3 (fluorite doublet SD 120 with least expensive mount). There is no mention of the F star accessory, so it does not violate clue 2.\\n\\n(D) Agema SD 150 with least expensive mount, TEC180 with F star accessory\\n- This violates clue 1 because the TEC180 must be paired with a mount that supports binoviewing, not the F star accessory.\\n\\n(E) Fluorite doublet SD 120 with F star accessory, TEC180 with least expensive mount\\n- This violates clue 1 because the TEC180 must be paired with a mount that supports binoviewing, not the least expensive mount. It also violates clue 3 because the fluorite doublet SD 120 must be paired with the least expensive mount, not the F star accessory.\\n\\nThe only option that adheres to all the specified constraints is:\\n\\n(C) TEC180 with binoviewing mount, fluorite doublet SD 120 with least expensive mount\\n\\nThis option satisfies all the clues provided and does not violate any of the constraints.\"}]\",\"[{\"role\": \"system\", \"content\": \"\"}, {\"role\": \"user\", \"content\": \"A local community center is organizing a week-long workshop series for parents and guardians on understanding and preventing child abuse. The series includes five different workshops, each led by a different expert. The workshops are titled: 'Recognizing the Signs' by Dr. Ellis, 'Legal Implications' by Attorney Lynn, 'Creating Safe Spaces' by Counselor Gomez, 'Supporting Survivors' by Dr. Patel, and 'Community Action' by Activist Ramirez. Due to scheduling constraints, the workshops must be held on consecutive days from Monday to Friday.\\n\\nClues:\\n'Recognizing the Signs' must occur before 'Supporting Survivors'\\n'Legal Implications' must precede 'Community Action'\\n'Creating Safe Spaces' must occur before 'Legal Implications'\\n'Supporting Survivors' must occur before 'Community Action'\\n\\nQ: If the workshops are to be held on consecutive days from Monday to Friday, which of the following is the correct order of the workshops?\\n(A) Recognizing the Signs, Creating Safe Spaces, Legal Implications, Supporting Survivors, Community Action\\n(B) Creating Safe Spaces, Recognizing the Signs, Supporting Survivors, Legal Implications, Community Action\\n(C) Legal Implications, Recognizing the Signs, Creating Safe Spaces, Supporting Survivors, Community Action\\n(D) Recognizing the Signs, Supporting Survivors, Creating Safe Spaces, Legal Implications, Community Action\\n(E) Community Action, Legal Implications, Creating Safe Spaces, Recognizing the Signs, Supporting Survivors\"}, {\"role\": \"assistant\", \"content\": \"Let's analyze the clues given:\\n\\n1. 'Recognizing the Signs' must occur before 'Supporting Survivors'\\n2. 'Legal Implications' must precede 'Community Action'\\n3. 'Creating Safe Spaces' must occur before 'Legal Implications'\\n4. 'Supporting Survivors' must occur before 'Community Action'\\n\\nFrom clue 3, we know that 'Creating Safe Spaces' comes before 'Legal Implications'. From clue 2, 'Legal Implications' comes before 'Community Action'. Therefore, the sequence must be 'Creating Safe Spaces' -> 'Legal Implications' -> 'Community Action'.\\n\\nFrom clue 1, 'Recognizing the Signs' comes before 'Supporting Survivors', and from clue 4, 'Supporting Survivors' comes before 'Community Action'. This means 'Recognizing the Signs' must also come before 'Community Action'.\\n\\nPutting all this together, we have two fixed sequences:\\n- 'Creating Safe Spaces' -> 'Legal Implications' -> 'Community Action'\\n- 'Recognizing the Signs' -> 'Supporting Survivors' -> 'Community Action'\\n\\nCombining these sequences, we get:\\n- 'Recognizing the Signs' -> 'Creating Safe Spaces' -> 'Legal Implications' -> 'Supporting Survivors' -> 'Community Action'\\n\\nThis matches option (A): Recognizing the Signs, Creating Safe Spaces, Legal Implications, Supporting Survivors, Community Action. Therefore, the correct order of the workshops is (A).\"}]\",\"[{\"role\": \"system\", \"content\": \"\"}, {\"role\": \"user\", \"content\": \"Five friends\\u2014Alice, Bob, Charlie, Dana, and Erin\\u2014are competing in a game where they must keep their trade secrets safe from each other while attempting to discover the others' secrets. Each friend has signed a confidentiality agreement with one other friend, creating a circle of trust. Alice has signed with Bob, Bob with Charlie, Charlie with Dana, Dana with Erin, and Erin with Alice. They are all attending a public event where they can file requests to access information that might contain the others' secrets. However, they must be careful not to breach their own agreements or the event's rules, which mirror public records laws, stating that trade secrets can be protected if a court order is obtained in time.\\n\\nClues:\\nAlice must be next to Bob\\nBob must be next to Charlie\\nCharlie must be next to Dana\\nDana must be next to Erin\\nErin must be next to Alice\\nNo one can be next to both their confidentiality partner and another person's partner\\n\\nQ: If the friends are seated in a straight line at the event, which of the following seating arrangements correctly adheres to the proximity constraints?\\n(A) Alice next to Erin, Bob next to Charlie, Dana not next to Erin\\n(B) Bob next to Alice, Charlie next to Dana, Erin not next to Alice\\n(C) Charlie next to Bob, Dana next to Erin, Alice not next to Bob\\n(D) Dana next to Charlie, Erin next to Alice, Bob not next to Charlie\\n(E) None of the above\"}, {\"role\": \"assistant\", \"content\": \"Let's analyze the clues and the seating arrangements one by one:\\n\\nClues:\\n1. Alice must be next to Bob\\n2. Bob must be next to Charlie\\n3. Charlie must be next to Dana\\n4. Dana must be next to Erin\\n5. Erin must be next to Alice\\n6. No one can be next to both their confidentiality partner and another person's partner\\n\\nGiven these clues, we can deduce that the friends must be seated in a circle, as they form a closed loop of confidentiality agreements. However, since they are seated in a straight line at the event, we need to find an arrangement that still respects the proximity constraints without forming a closed loop.\\n\\nLet's evaluate the options:\\n\\n(A) Alice next to Erin, Bob next to Charlie, Dana not next to Erin\\nThis arrangement violates clue 1, as Alice must be next to Bob, not Erin.\\n\\n(B) Bob next to Alice, Charlie next to Dana, Erin not next to Alice\\nThis arrangement violates clue 5, as Erin must be next to Alice.\\n\\n(C) Charlie next to Bob, Dana next to Erin, Alice not next to Bob\\nThis arrangement violates clue 1, as Alice must be next to Bob.\\n\\n(D) Dana next to Charlie, Erin next to Alice, Bob not next to Charlie\\nThis arrangement violates clue 2, as Bob must be next to Charlie.\\n\\n(E) None of the above\\nGiven that all the other options violate at least one of the clues, the correct answer must be (E) None of the above.\\n\\nTo further illustrate why none of the options work, let's try to construct a valid seating arrangement based on the clues. Since they are seated in a straight line, we can't form a closed loop, so one pair's confidentiality agreement will have to be \\\"broken\\\" in the sense that they can't sit next to each other. However, the seating arrangement must still respect the proximity constraints as much as possible.\\n\\nOne possible arrangement that respects the proximity constraints as much as possible without forming a closed loop would be:\\n\\nBob - Alice - Erin - Dana - Charlie\\n\\nIn this arrangement:\\n- Alice is next to Bob (clue 1)\\n- Bob is next to Alice but not next to Charlie (clue 2 is not fully satisfied due to the straight line constraint)\\n- Charlie is next to Dana (clue 3)\\n- Dana is next to Erin (clue 4)\\n- Erin is next to Alice (clue 5)\\n- No one is next to both their confidentiality partner and another person's partner (clue 6)\\n\\nSince none of the given options match this arrangement or any other arrangement that would satisfy the clues as much as possible, the answer is (E) None of the above.\"}]\",\"[{\"role\": \"system\", \"content\": \"\"}, {\"role\": \"user\", \"content\": \"A graphic design agency is preparing for a large-scale project that requires the creation of numerous print and digital assets. The agency has decided to use Adobe InDesign to manage the project due to its powerful preflight panel feature, which allows for automated error checking based on customizable profiles. The project involves creating assets for various clients, each with their own specific design criteria and mechanical specifications. The agency has established several preflight profiles to cater to different printing standards and client needs, including digital printing, standard 300 dpi printing, and larger format printing. Each profile contains specific settings for color standards, image resolutions, object scaling, text overset, glyph availability, and type scaling. Additionally, the agency has built InDesign templates for clients to manage their own assets while maintaining brand consistency. The templates are designed to flag issues such as minimum stroke weight, live area violations, dynamic spelling errors, paragraph and character style overrides, and minimum type size requirements. The agency's designers must ensure that all assets meet the preflight criteria before finalizing them for client use. The project's success hinges on the meticulous application of these preflight profiles to each asset, ensuring error-free and brand-consistent deliverables.\\n\\nClues:\\nAssets must be categorized into Print or Digital\\nPrint assets are further divided into Standard and Large Format\\nDigital assets must not be subdivided\\nStandard Print assets must adhere to 300 dpi printing criteria\\nLarge Format Print assets have unique scaling requirements\\nAll assets must pass preflight checks before finalization\\n\\nQ: Which of the following arrangements adheres to the subgrouping rules for categorizing the assets?\\n(A) Print with Standard and Large Format, Digital as is\\n(B) Digital with Print, Standard separate\\n(C) Print as is, Digital subdivided into Digital1 and Digital2\\n(D) Standard Print with Digital, Large Format separate\\n(E) Large Format Print with Standard, Digital as is\"}, {\"role\": \"assistant\", \"content\": \"The correct arrangement that adheres to the subgrouping rules for categorizing the assets is:\\n\\n(A) Print with Standard and Large Format, Digital as is\\n\\nThis arrangement correctly categorizes the assets into Print and Digital, with Print assets further divided into Standard and Large Format, and Digital assets not being subdivided. This adheres to all the rules provided:\\n\\n- Assets must be categorized into Print or Digital.\\n- Print assets are further divided into Standard and Large Format.\\n- Digital assets must not be subdivided.\\n- Standard Print assets must adhere to 300 dpi printing criteria.\\n- Large Format Print assets have unique scaling requirements.\\n- All assets must pass preflight checks before finalization.\"}]\",...,\"[{\"role\": \"system\", \"content\": \"\"}, {\"role\": \"user\", \"content\": \"A high school gymnastics team is preparing for their end-of-year championship competition. The team consists of six gymnasts: Michelle, Alex, Jordan, Taylor, Casey, and Sam. Each gymnast competes in four events: vault, uneven bars, balance beam, and floor exercise. The order in which they compete is crucial as it can affect their performance and the team's overall score. The coach must determine the lineup for each event, taking into account the gymnasts' strengths, weaknesses, and past performances. Additionally, the coach must consider the gymnasts' personal challenges and triumphs throughout the season, such as Michelle's recovery from anorexia and return to the sport. The goal is to create a sequence that maximizes the team's chances of winning the championship while also highlighting each gymnast's individual journey and growth.\\n\\nClues:\\nMichelle cannot perform on the balance beam immediately after the floor exercise\\nAlex must compete on the vault before Taylor\\nJordan cannot compete on the uneven bars immediately before or after Casey\\nSam must perform on the floor exercise before the balance beam\\nTaylor's performance on the uneven bars must occur before Jordan's performance on the same event\\nCasey's first event cannot be the vault\\n\\nQ: If Taylor is scheduled to perform on the vault third, which one of the following could be an accurate order of gymnasts for the uneven bars?\\n(A) Michelle, Alex, Taylor, Jordan, Casey, Sam\\n(B) Alex, Michelle, Casey, Taylor, Jordan, Sam\\n(C) Taylor, Alex, Jordan, Michelle, Casey, Sam\\n(D) Alex, Taylor, Michelle, Jordan, Casey, Sam\\n(E) Casey, Alex, Taylor, Jordan, Michelle, Sam\"}, {\"role\": \"assistant\", \"content\": \"Let's analyze the clues given to determine the possible order for the uneven bars:\\n\\n1. Michelle cannot perform on the balance beam immediately after the floor exercise.\\n2. Alex must compete on the vault before Taylor.\\n3. Jordan cannot compete on the uneven bars immediately before or after Casey.\\n4. Sam must perform on the floor exercise before the balance beam.\\n5. Taylor's performance on the uneven bars must occur before Jordan's performance on the same event.\\n6. Casey's first event cannot be the vault.\\n\\nAdditionally, we know that Taylor is scheduled to perform on the vault third. This clue doesn't directly affect the order for the uneven bars, but it might help us eliminate some options based on the sequence of events.\\n\\nNow, let's evaluate the options for the uneven bars:\\n\\n(A) Michelle, Alex, Taylor, Jordan, Casey, Sam\\n(B) Alex, Michelle, Casey, Taylor, Jordan, Sam\\n(C) Taylor, Alex, Jordan, Michelle, Casey, Sam\\n(D) Alex, Taylor, Michelle, Jordan, Casey, Sam\\n(E) Casey, Alex, Taylor, Jordan, Michelle, Sam\\n\\nWe can immediately eliminate option (C) because Taylor cannot perform on the uneven bars before Alex, as Alex must compete on the vault before Taylor, and the vault is typically the first event in a gymnastics competition.\\n\\nWe can also eliminate option (A) because Jordan cannot compete on the uneven bars immediately before or after Casey, and in this option, Jordan is immediately before Casey.\\n\\nOption (E) can be eliminated because Casey's first event cannot be the vault, and since the vault typically comes before the uneven bars, Casey cannot be first on the uneven bars.\\n\\nNow we are left with options (B) and (D).\\n\\nOption (B) can be eliminated because Jordan cannot compete on the uneven bars immediately before or after Casey, and in this option, Jordan is immediately after Casey.\\n\\nThis leaves us with option (D) as the only possibility that does not violate any of the given clues:\\n\\n(D) Alex, Taylor, Michelle, Jordan, Casey, Sam\\n\\nThis order satisfies all the conditions:\\n- Taylor's performance on the uneven bars occurs before Jordan's.\\n- Jordan is not competing on the uneven bars immediately before or after Casey.\\n- Casey is not first on the uneven bars, so her first event is not the vault.\\n\\nTherefore, the correct answer is:\\n(D) Alex, Taylor, Michelle, Jordan, Casey, Sam\"}]\",\"[{\"role\": \"system\", \"content\": \"\"}, {\"role\": \"user\", \"content\": \"Five patients\\u2014Alex, Blake, Casey, Drew, and Jordan\\u2014are scheduled for consultations regarding weight loss procedures with Dr. Batash. Each patient is considering a different procedure: Vertical Sleeve Gastrectomy (VSG), Suture Sculpt ESG, gastric bypass, duodenal switch surgery, and a non-surgical diet and exercise plan. The patients have varying BMIs and medical conditions that make some procedures more suitable than others. The consultations are scheduled in such a way that no two patients with similar BMIs or medical conditions are seen consecutively. Additionally, the order of the consultations must take into account the complexity of the procedures, with the most invasive surgeries scheduled earlier in the day.\\n\\nClues:\\nThe patient considering the gastric bypass must not have a consultation immediately before or after the patient considering the duodenal switch surgery\\nThe patient with the highest BMI must be seen before the patient considering the non-surgical diet and exercise plan\\nAlex must not be scheduled immediately before or after Blake\\n\\nQ: Which of the following consultation schedules adheres to the proximity constraints?\\n(A) Alex (VSG), Blake (gastric bypass), Casey (duodenal switch surgery), Drew (non-surgical diet and exercise plan), Jordan (Suture Sculpt ESG)\\n(B) Blake (duodenal switch surgery), Alex (gastric bypass), Casey (non-surgical diet and exercise plan), Drew (Suture Sculpt ESG), Jordan (VSG)\\n(C) Casey (non-surgical diet and exercise plan), Drew (Suture Sculpt ESG), Alex (gastric bypass), Jordan (duodenal switch surgery), Blake (VSG)\\n(D) Drew (Suture Sculpt ESG), Casey (gastric bypass), Jordan (duodenal switch surgery), Blake (VSG), Alex (non-surgical diet and exercise plan)\\n(E) Jordan (VSG), Drew (gastric bypass), Blake (duodenal switch surgery), Alex (Suture Sculpt ESG), Casey (non-surgical diet and exercise plan)\"}, {\"role\": \"assistant\", \"content\": \"Let's analyze the clues and apply them to the options provided:\\n\\n1. The patient considering the gastric bypass must not have a consultation immediately before or after the patient considering the duodenal switch surgery.\\n2. The patient with the highest BMI must be seen before the patient considering the non-surgical diet and exercise plan.\\n3. Alex must not be scheduled immediately before or after Blake.\\n4. The most invasive surgeries should be scheduled earlier in the day.\\n\\nNow let's evaluate each option:\\n\\n(A) Alex (VSG), Blake (gastric bypass), Casey (duodenal switch surgery), Drew (non-surgical diet and exercise plan), Jordan (Suture Sculpt ESG)\\n- This violates clue 1 because Blake (gastric bypass) is scheduled immediately before Casey (duodenal switch surgery).\\n\\n(B) Blake (duodenal switch surgery), Alex (gastric bypass), Casey (non-surgical diet and exercise plan), Drew (Suture Sculpt ESG), Jordan (VSG)\\n- This violates clue 1 because Blake (duodenal switch surgery) is scheduled immediately before Alex (gastric bypass).\\n\\n(C) Casey (non-surgical diet and exercise plan), Drew (Suture Sculpt ESG), Alex (gastric bypass), Jordan (duodenal switch surgery), Blake (VSG)\\n- This violates clue 1 because Alex (gastric bypass) is scheduled immediately before Jordan (duodenal switch surgery).\\n\\n(D) Drew (Suture Sculpt ESG), Casey (gastric bypass), Jordan (duodenal switch surgery), Blake (VSG), Alex (non-surgical diet and exercise plan)\\n- This violates clue 1 because Casey (gastric bypass) is scheduled immediately before Jordan (duodenal switch surgery).\\n- This also violates clue 3 because Alex is scheduled immediately after Blake.\\n\\n(E) Jordan (VSG), Drew (gastric bypass), Blake (duodenal switch surgery), Alex (Suture Sculpt ESG), Casey (non-surgical diet and exercise plan)\\n- This violates clue 1 because Drew (gastric bypass) is scheduled immediately before Blake (duodenal switch surgery).\\n- This also violates clue 3 because Alex is scheduled immediately after Blake.\\n\\nNone of the options provided adhere to all the proximity constraints given in the clues. There seems to be a mistake in the options provided, as none of them meet all the criteria. Please check the options or the clues for any errors or omissions.\"}]\",\"[{\"role\": \"system\", \"content\": \"\"}, {\"role\": \"user\", \"content\": \"A committee is tasked with evaluating the adoption of cloud computing within various public sector organizations. The committee must prioritize the review of five key areas where cloud computing could benefit these organizations: agility, data insights, time-to-value, cost reduction, and citizen satisfaction. The committee members, Alex, Bailey, Charlie, and Dana, must each take responsibility for one area, with one member overseeing two areas. They must present their findings in a sequence that reflects the potential impact on service delivery and public trust.\\n\\nClues:\\nAlex cannot oversee cost reduction\\nBailey must present before Charlie\\nCharlie cannot be responsible for both agility and citizen satisfaction\\nDana must oversee either data insights or time-to-value\\nThe member overseeing two areas cannot present first or last\\n\\nQ: If Dana is responsible for data insights and presents third, which one of the following could be an accurate order of presentation, from first to last?\\n(A) Bailey - Alex - Dana - Charlie\\n(B) Alex - Bailey - Dana - Charlie\\n(C) Charlie - Bailey - Dana - Alex\\n(D) Bailey - Charlie - Dana - Alex\\n(E) Alex - Dana - Bailey - Charlie\"}, {\"role\": \"assistant\", \"content\": \"Let's go through the clues and see what we can deduce:\\n\\n1. Alex cannot oversee cost reduction.\\n2. Bailey must present before Charlie.\\n3. Charlie cannot be responsible for both agility and citizen satisfaction.\\n4. Dana must oversee either data insights or time-to-value.\\n5. The member overseeing two areas cannot present first or last.\\n6. Dana is responsible for data insights and presents third.\\n\\nFrom clue 6, we know Dana presents third and is responsible for data insights. This means Dana cannot be the member overseeing two areas because that member cannot present first or last (clue 5), and by extension, cannot present third either.\\n\\nSince Bailey must present before Charlie (clue 2), Bailey cannot present last. This means Bailey cannot be the member overseeing two areas either.\\n\\nSince Dana presents third and Bailey cannot present last, Bailey must present first or second. If Bailey presents second, Charlie would have to present last (because Bailey must present before Charlie), but this would mean Alex would have to present first and oversee two areas, which is not possible. Therefore, Bailey must present first.\\n\\nThis leaves Alex and Charlie. Since Alex cannot oversee cost reduction (clue 1), and the member overseeing two areas cannot present first or last, Alex must present second and cannot be the member overseeing two areas. This means Charlie must be the member overseeing two areas and must present last.\\n\\nNow we have the following order:\\n1. Bailey\\n2. Alex\\n3. Dana (Data Insights)\\n4. Charlie (overseeing two areas)\\n\\nSince Dana is responsible for data insights, the remaining areas are agility, time-to-value, cost reduction, and citizen satisfaction. Since Alex cannot oversee cost reduction, Alex must be responsible for either agility or citizen satisfaction. Since Charlie is overseeing two areas and cannot be responsible for both agility and citizen satisfaction (clue 3), Alex must be responsible for the one that Charlie is not overseeing.\\n\\nIf Alex were responsible for agility, Charlie would be responsible for citizen satisfaction and cost reduction, leaving time-to-value for Bailey. However, if Alex were responsible for citizen satisfaction, Charlie would be responsible for agility and cost reduction, leaving time-to-value for Bailey. Either way, Bailey is responsible for time-to-value.\\n\\nSo the final order and responsibilities are:\\n1. Bailey (Time-to-Value)\\n2. Alex (Citizen Satisfaction or Agility)\\n3. Dana (Data Insights)\\n4. Charlie (Agility and Cost Reduction or Citizen Satisfaction and Cost Reduction)\\n\\nThe only option that fits this order is:\\n(D) Bailey - Charlie - Dana - Alex\\n\\nHowever, this does not fit with our deduction that Charlie must present last. Therefore, there must be a mistake in our reasoning. Let's re-evaluate the clues.\\n\\nWe know that Dana presents third and is responsible for data insights. Since Dana cannot be the member overseeing two areas, and Bailey must present before Charlie, the only option left for the member overseeing two areas is Alex or Charlie. Since the member overseeing two areas cannot present first or last, and Dana is presenting third, the member with two areas must be presenting second. This means Alex must be presenting second and overseeing two areas.\\n\\nNow we have the following order:\\n1. Bailey\\n2. Alex (overseeing two areas)\\n3. Dana (Data Insights)\\n4. Charlie\\n\\nSince Alex cannot oversee cost reduction, the two areas Alex oversees must be among agility, citizen satisfaction, and time-to-value. Since Dana is already covering data insights, the remaining area for Charlie must be cost reduction.\\n\\nNow we have the following responsibilities:\\n- Bailey: (Not Data Insights, Not Cost Reduction)\\n- Alex: Two areas (Not Cost Reduction)\\n- Dana: Data Insights\\n- Charlie: Cost Reduction\\n\\nSince Bailey cannot be presenting last, Bailey must be presenting first. This leaves the following order and responsibilities:\\n1. Bailey (Agility or Citizen Satisfaction)\\n2. Alex (The remaining two from Agility, Citizen Satisfaction, and Time-to-Value)\\n3. Dana (Data Insights)\\n4. Charlie (Cost Reduction)\\n\\nThe only option that fits this corrected order and responsibilities is:\\n(A) Bailey - Alex - Dana - Charlie\\n\\nTherefore, the correct answer is (A) Bailey - Alex - Dana - Charlie.\"}]\",\"[{\"role\": \"system\", \"content\": \"\"}, {\"role\": \"user\", \"content\": \"A law school is hosting a mock trial competition where teams from different universities will compete by arguing famous appellate cases. The competition will take place over a week, with each day featuring a different case from a variety of legal areas, including criminal law, civil rights, contract disputes, and intellectual property. Six universities (A, B, C, D, E, and F) have been invited to participate, and each will be assigned a specific day to present their arguments for both sides of one case. The order in which the universities will present, as well as the case they will argue, must be determined in advance. The competition schedule must ensure that no university presents on consecutive days and that each university has an equal opportunity to argue cases of differing complexity and legal significance.\\n\\nClues:\\nUniversity A cannot present on the day immediately following or preceding University B\\nUniversity C must present before University D\\nUniversity E must present after University A and before University F\\nNo university can present on consecutive days\\n\\nQ: If University B presents on the first day, which of the following could be the correct order of presentations?\\n(A) B, D, A, C, E, F\\n(B) B, C, E, A, D, F\\n(C) B, A, C, D, E, F\\n(D) B, E, C, A, F, D\\n(E) B, C, A, E, D, F\"}, {\"role\": \"assistant\", \"content\": \"Let's analyze the options given the clues provided:\\n\\n1. University A cannot present on the day immediately following or preceding University B.\\n2. University C must present before University D.\\n3. University E must present after University A and before University F.\\n4. No university can present on consecutive days.\\n\\nGiven that University B presents on the first day, let's check each option:\\n\\n(A) B, D, A, C, E, F\\n- This violates clue 1 because University A presents immediately after University D, which is not allowed.\\n\\n(B) B, C, E, A, D, F\\n- This violates clue 3 because University E is presenting before University A.\\n\\n(C) B, A, C, D, E, F\\n- This violates clue 1 because University A presents immediately after University B.\\n\\n(D) B, E, C, A, F, D\\n- This violates clue 2 because University D is presenting after University F, which is not allowed since University C must present before University D.\\n\\n(E) B, C, A, E, D, F\\n- This option does not violate any of the given clues:\\n  - University A does not present on the day immediately following or preceding University B.\\n  - University C presents before University D.\\n  - University E presents after University A and before University F.\\n  - No university presents on consecutive days.\\n\\nTherefore, the correct order of presentations, given that University B presents on the first day, is:\\n\\n(E) B, C, A, E, D, F\"}]\",\"[{\"role\": \"system\", \"content\": \"\"}, {\"role\": \"user\", \"content\": \"A research team is conducting an experiment to determine the unconfined shear strength of remoulded clay samples using three different methods of moulding: Proctor compaction, hand operated soil compactor, and miniature mould. Each method aims to remould the clay with the same optimum moisture content (OMC) and density. The Proctor compaction method is considered the baseline for comparison. The results of the experiment will reveal the unconfined shear strength and strain for each method, as well as the percentage reduction in shear strength compared to the Proctor compaction method. The team must decide which method is most suitable for forming remoulded clay samples based on factors such as ease of use, time efficiency, and energy consumption. The chosen method will be recommended for future researchers to use in their studies of remoulded clay's shear strength.\\n\\nClues:\\nIf the hand operated soil compactor is chosen, then the method must be more time efficient than the Proctor compaction\\nIf the miniature mould is chosen, then the energy consumption must be less than the Proctor compaction\\nThe Proctor compaction method cannot be chosen if there is a method that results in both higher time efficiency and lower energy consumption\\n\\nQ: Which of the following could be a reason for the research team to choose a specific moulding method?\\n(A) The hand operated soil compactor is less time efficient than the Proctor compaction\\n(B) The miniature mould consumes more energy than the Proctor compaction\\n(C) The hand operated soil compactor is more time efficient than the Proctor compaction\\n(D) The Proctor compaction is chosen despite another method being both more time efficient and consuming less energy\\n(E) The miniature mould consumes less energy than the Proctor compaction\"}, {\"role\": \"assistant\", \"content\": \"(C) The hand operated soil compactor is more time efficient than the Proctor compaction\\n\\nThis could be a reason for the research team to choose the hand operated soil compactor over the Proctor compaction method, as it meets the condition that if the hand operated soil compactor is chosen, it must be more time efficient than the Proctor compaction. This would satisfy one of the criteria for selecting a method based on time efficiency.\\n\\n(E) The miniature mould consumes less energy than the Proctor compaction\\n\\nThis could also be a reason for the research team to choose the miniature mould method over the Proctor compaction method, as it meets the condition that if the miniature mould is chosen, then the energy consumption must be less than the Proctor compaction. This would satisfy one of the criteria for selecting a method based on energy consumption.\\n\\nOptions (A) and (B) would not be reasons to choose those methods over the Proctor compaction because they indicate disadvantages compared to the baseline method. Option (D) contradicts the given condition that the Proctor compaction method cannot be chosen if there is a method that results in both higher time efficiency and lower energy consumption.\"}]\"]]"
      ]
     },
     "execution_count": 3,
     "metadata": {},
     "output_type": "execute_result"
    }
   ],
   "source": [
    "path = \"/Users/admin/Documents/github/orca-agentinstruct-1M-v1/data/analytical_reasoning-00000-of-00001.parquet\"\n",
    "table = pa.read_table(path)\n",
    "table[:100]"
   ]
  },
  {
   "cell_type": "code",
   "execution_count": 4,
   "metadata": {},
   "outputs": [
    {
     "data": {
      "text/plain": [
       "(25000, 1)"
      ]
     },
     "execution_count": 4,
     "metadata": {},
     "output_type": "execute_result"
    }
   ],
   "source": [
    "table.shape"
   ]
  },
  {
   "cell_type": "code",
   "execution_count": 5,
   "metadata": {},
   "outputs": [],
   "source": [
    "scaled_table = table[:100]"
   ]
  },
  {
   "cell_type": "code",
   "execution_count": 6,
   "metadata": {},
   "outputs": [
    {
     "data": {
      "text/html": [
       "<div>\n",
       "<style scoped>\n",
       "    .dataframe tbody tr th:only-of-type {\n",
       "        vertical-align: middle;\n",
       "    }\n",
       "\n",
       "    .dataframe tbody tr th {\n",
       "        vertical-align: top;\n",
       "    }\n",
       "\n",
       "    .dataframe thead th {\n",
       "        text-align: right;\n",
       "    }\n",
       "</style>\n",
       "<table border=\"1\" class=\"dataframe\">\n",
       "  <thead>\n",
       "    <tr style=\"text-align: right;\">\n",
       "      <th></th>\n",
       "      <th>0</th>\n",
       "      <th>1</th>\n",
       "      <th>2</th>\n",
       "      <th>3</th>\n",
       "      <th>4</th>\n",
       "    </tr>\n",
       "  </thead>\n",
       "  <tbody>\n",
       "    <tr>\n",
       "      <th>messages</th>\n",
       "      <td>[{\"role\": \"system\", \"content\": \"\"}, {\"role\": \"...</td>\n",
       "      <td>[{\"role\": \"system\", \"content\": \"\"}, {\"role\": \"...</td>\n",
       "      <td>[{\"role\": \"system\", \"content\": \"\"}, {\"role\": \"...</td>\n",
       "      <td>[{\"role\": \"system\", \"content\": \"\"}, {\"role\": \"...</td>\n",
       "      <td>[{\"role\": \"system\", \"content\": \"\"}, {\"role\": \"...</td>\n",
       "    </tr>\n",
       "  </tbody>\n",
       "</table>\n",
       "</div>"
      ],
      "text/plain": [
       "                                                          0  \\\n",
       "messages  [{\"role\": \"system\", \"content\": \"\"}, {\"role\": \"...   \n",
       "\n",
       "                                                          1  \\\n",
       "messages  [{\"role\": \"system\", \"content\": \"\"}, {\"role\": \"...   \n",
       "\n",
       "                                                          2  \\\n",
       "messages  [{\"role\": \"system\", \"content\": \"\"}, {\"role\": \"...   \n",
       "\n",
       "                                                          3  \\\n",
       "messages  [{\"role\": \"system\", \"content\": \"\"}, {\"role\": \"...   \n",
       "\n",
       "                                                          4  \n",
       "messages  [{\"role\": \"system\", \"content\": \"\"}, {\"role\": \"...  "
      ]
     },
     "execution_count": 6,
     "metadata": {},
     "output_type": "execute_result"
    }
   ],
   "source": [
    "df = scaled_table.to_pandas()\n",
    "df.head().T"
   ]
  },
  {
   "cell_type": "markdown",
   "metadata": {},
   "source": [
    "## Vector Database\n",
    "\n",
    "[Vector Database — Introduction and Python Implementation | by Denaya | Medium](https://medium.com/@chilldenaya/vector-database-introduction-and-python-implementation-4a6ac8518c6b)"
   ]
  },
  {
   "cell_type": "code",
   "execution_count": 3,
   "metadata": {},
   "outputs": [],
   "source": [
    "import chromadb\n",
    "from pprint import pprint"
   ]
  },
  {
   "cell_type": "code",
   "execution_count": 4,
   "metadata": {},
   "outputs": [],
   "source": [
    "client = chromadb.Client()"
   ]
  },
  {
   "cell_type": "code",
   "execution_count": 5,
   "metadata": {},
   "outputs": [],
   "source": [
    "collection = client.create_collection(\"all-my-documents\")"
   ]
  },
  {
   "cell_type": "code",
   "execution_count": 8,
   "metadata": {},
   "outputs": [
    {
     "name": "stderr",
     "output_type": "stream",
     "text": [
      "Insert of existing embedding ID: doc1\n",
      "Insert of existing embedding ID: docs2\n",
      "Insert of existing embedding ID: doc3\n",
      "Add of existing embedding ID: doc1\n",
      "Add of existing embedding ID: docs2\n",
      "Add of existing embedding ID: doc3\n"
     ]
    }
   ],
   "source": [
    "collection.add(\n",
    "    documents = [\n",
    "        \"This is a document about food\",\n",
    "        \"This is a document about animal's food\",\n",
    "        \"This is a document about cats and dogs\",\n",
    "    ],\n",
    "    metadatas = [{\"topic\": \"food\"}, {\"topic\": \"animal\"}, {\"topic\": \"animal\"}],\n",
    "    ids=[\"doc1\", \"docs2\", \"doc3\"],\n",
    ")"
   ]
  },
  {
   "cell_type": "code",
   "execution_count": 9,
   "metadata": {},
   "outputs": [],
   "source": [
    "results = collection.query(\n",
    "    query_texts = [\"This is a query asking about pizza\"],\n",
    "    n_results = 2,\n",
    ")"
   ]
  },
  {
   "cell_type": "code",
   "execution_count": 11,
   "metadata": {},
   "outputs": [
    {
     "name": "stdout",
     "output_type": "stream",
     "text": [
      "{'data': None,\n",
      " 'distances': [[1.143031120300293, 1.4907037019729614]],\n",
      " 'documents': [['This is a document about food',\n",
      "                \"This is a document about animal's food\"]],\n",
      " 'embeddings': None,\n",
      " 'ids': [['doc1', 'docs2']],\n",
      " 'included': [<IncludeEnum.distances: 'distances'>,\n",
      "              <IncludeEnum.documents: 'documents'>,\n",
      "              <IncludeEnum.metadatas: 'metadatas'>],\n",
      " 'metadatas': [[{'topic': 'food'}, {'topic': 'animal'}]],\n",
      " 'uris': None}\n"
     ]
    }
   ],
   "source": [
    "pprint(results)"
   ]
  },
  {
   "cell_type": "code",
   "execution_count": 12,
   "metadata": {},
   "outputs": [
    {
     "name": "stdout",
     "output_type": "stream",
     "text": [
      "{'data': None,\n",
      " 'distances': [[1.143031120300293]],\n",
      " 'documents': [['This is a document about food']],\n",
      " 'embeddings': None,\n",
      " 'ids': [['doc1']],\n",
      " 'included': [<IncludeEnum.distances: 'distances'>,\n",
      "              <IncludeEnum.documents: 'documents'>,\n",
      "              <IncludeEnum.metadatas: 'metadatas'>],\n",
      " 'metadatas': [[{'topic': 'food'}]],\n",
      " 'uris': None}\n"
     ]
    }
   ],
   "source": [
    "results2 = collection.query(\n",
    "    query_texts = [\"This is a query asking about pizza\"],\n",
    "    n_results = 2,\n",
    "    where = {\"topic\": \"food\"},\n",
    ")\n",
    "\n",
    "pprint(results2)"
   ]
  },
  {
   "cell_type": "code",
   "execution_count": 16,
   "metadata": {},
   "outputs": [
    {
     "name": "stdout",
     "output_type": "stream",
     "text": [
      "{'data': None,\n",
      " 'distances': [[0.3975914418697357, 1.1058433055877686]],\n",
      " 'documents': [[\"This is a document about animal's food\",\n",
      "                'This is a document about cats and dogs']],\n",
      " 'embeddings': None,\n",
      " 'ids': [['docs2', 'doc3']],\n",
      " 'included': [<IncludeEnum.distances: 'distances'>,\n",
      "              <IncludeEnum.documents: 'documents'>,\n",
      "              <IncludeEnum.metadatas: 'metadatas'>],\n",
      " 'metadatas': [[{'topic': 'animal'}, {'topic': 'animal'}]],\n",
      " 'uris': None}\n"
     ]
    }
   ],
   "source": [
    "results3 = collection.query(\n",
    "    query_texts = [\"This is a query asking about animal's food\"],\n",
    "    n_results = 2,\n",
    "    where = {\"topic\": \"animal\"},\n",
    ")\n",
    "\n",
    "pprint(results3)"
   ]
  },
  {
   "cell_type": "code",
   "execution_count": null,
   "metadata": {},
   "outputs": [],
   "source": []
  }
 ],
 "metadata": {
  "kernelspec": {
   "display_name": "Python 3 (ipykernel)",
   "language": "python",
   "name": "python3"
  },
  "language_info": {
   "codemirror_mode": {
    "name": "ipython",
    "version": 3
   },
   "file_extension": ".py",
   "mimetype": "text/x-python",
   "name": "python",
   "nbconvert_exporter": "python",
   "pygments_lexer": "ipython3",
   "version": "3.12.7"
  }
 },
 "nbformat": 4,
 "nbformat_minor": 4
}
