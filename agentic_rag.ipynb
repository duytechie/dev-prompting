{
 "cells": [
  {
   "cell_type": "markdown",
   "id": "a3322f04-8c88-45ec-8bfb-19e7636d291a",
   "metadata": {},
   "source": [
    "# Agentic RAG\n",
    "\n",
    "https://weaviate.io/blog/what-is-agentic-rag"
   ]
  },
  {
   "cell_type": "code",
   "execution_count": null,
   "id": "b128df0a-5076-49b9-9262-1dfdec44dfa7",
   "metadata": {},
   "outputs": [],
   "source": [
    "def get_search_results(query: str) -> str:\n",
    "    \"\"\"Sends a query to Weaviate's Hybrid Search. Parses the response into a {k}:{v} string.\"\"\"\n",
    "    \n",
    "    response = blogs.query.hybrid(query, limit=5)\n",
    "    \n",
    "    stringified_response = \"\"\n",
    "    for idx, o in enumerate(response.objects):\n",
    "        stringified_response += f\"Search Result: {idx+1}:\\n\"\n",
    "        for prop in o.properties:\n",
    "            stringified_response += f\"{prop}:{o.properties[prop]}\"\n",
    "        stringified_response += \"\\n\"\n",
    "    \n",
    "    return stringified_response"
   ]
  },
  {
   "cell_type": "code",
   "execution_count": null,
   "id": "42e1a07d-a3f5-49f2-869b-07b8495d57f6",
   "metadata": {},
   "outputs": [],
   "source": [
    "def ollama_generation_with_tools(user_message: str,\n",
    "                                 tools_schema: List, tool_mapping: Dict,\n",
    "                                 model_name: str = \"llama3.2\") -> str:\n",
    "    messages=[{\n",
    "        \"role\": \"user\",\n",
    "        \"content\": user_message\n",
    "    }]\n",
    "    response = ollama.chat(\n",
    "        model=model_name,\n",
    "        messages=messages,\n",
    "        tools=tools_schema\n",
    "    )\n",
    "    if not response[\"message\"].get(\"tool_calls\"):\n",
    "        return response[\"message\"][\"content\"]\n",
    "    else:\n",
    "        for tool in response[\"message\"][\"tool_calls\"]:\n",
    "            function_to_call = tool_mapping[tool[\"function\"][\"name\"]]\n",
    "            print(f\"Calling function {function_to_call}...\")\n",
    "            function_response = function_to_call(tool[\"function\"][\"arguments\"][\"query\"])\n",
    "            messages.append({\n",
    "                \"role\": \"tool\",\n",
    "                \"content\": function_response,\n",
    "            })\n",
    "    \n",
    "    final_response = ollama.chat(model=model_name, messages=messages)\n",
    "    return final_response[\"message\"][\"content\"]"
   ]
  }
 ],
 "metadata": {
  "kernelspec": {
   "display_name": "Python 3 (ipykernel)",
   "language": "python",
   "name": "python3"
  },
  "language_info": {
   "codemirror_mode": {
    "name": "ipython",
    "version": 3
   },
   "file_extension": ".py",
   "mimetype": "text/x-python",
   "name": "python",
   "nbconvert_exporter": "python",
   "pygments_lexer": "ipython3",
   "version": "3.12.7"
  }
 },
 "nbformat": 4,
 "nbformat_minor": 5
}
